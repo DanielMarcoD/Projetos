{
 "cells": [
  {
   "cell_type": "markdown",
   "metadata": {},
   "source": [
    "# Projeto 1 - Ciência dos Dados"
   ]
  },
  {
   "cell_type": "markdown",
   "metadata": {},
   "source": [
    "Nome: _____\n",
    "\n",
    "Nome: _____"
   ]
  },
  {
   "cell_type": "markdown",
   "metadata": {},
   "source": [
    "Atenção: Serão permitidos grupos de três pessoas, mas com uma rubrica mais exigente. Grupos deste tamanho precisarão fazer um questionário de avaliação de trabalho em equipe"
   ]
  },
  {
   "cell_type": "markdown",
   "metadata": {},
   "source": [
    "___\n",
    "Carregando algumas bibliotecas:"
   ]
  },
  {
   "cell_type": "code",
   "execution_count": 1,
   "metadata": {},
   "outputs": [],
   "source": [
    "%matplotlib inline\n",
    "import pandas as pd\n",
    "import matplotlib.pyplot as plt\n",
    "import numpy as np\n",
    "import os"
   ]
  },
  {
   "cell_type": "code",
   "execution_count": 2,
   "metadata": {
    "scrolled": false
   },
   "outputs": [
    {
     "name": "stdout",
     "output_type": "stream",
     "text": [
      "Esperamos trabalhar no diretório\n",
      "c:\\Users\\gabri\\OneDrive\\Área de Trabalho\\Projeto_CDADOS\\23-1a-cd-p1-pedro_daniel_gabriel-1\\notebooks\n"
     ]
    }
   ],
   "source": [
    "print('Esperamos trabalhar no diretório')\n",
    "print(os.getcwd())"
   ]
  },
  {
   "cell_type": "markdown",
   "metadata": {},
   "source": [
    "Carregando a base de dados com os tweets classificados manualmente:"
   ]
  },
  {
   "cell_type": "code",
   "execution_count": 3,
   "metadata": {},
   "outputs": [],
   "source": [
    "filename = '../data/dados.xlsx'"
   ]
  },
  {
   "cell_type": "code",
   "execution_count": 4,
   "metadata": {},
   "outputs": [
    {
     "data": {
      "text/html": [
       "<div>\n",
       "<style scoped>\n",
       "    .dataframe tbody tr th:only-of-type {\n",
       "        vertical-align: middle;\n",
       "    }\n",
       "\n",
       "    .dataframe tbody tr th {\n",
       "        vertical-align: top;\n",
       "    }\n",
       "\n",
       "    .dataframe thead th {\n",
       "        text-align: right;\n",
       "    }\n",
       "</style>\n",
       "<table border=\"1\" class=\"dataframe\">\n",
       "  <thead>\n",
       "    <tr style=\"text-align: right;\">\n",
       "      <th></th>\n",
       "      <th>Titulo</th>\n",
       "      <th>Descrição</th>\n",
       "      <th>Pagina</th>\n",
       "      <th>Target</th>\n",
       "    </tr>\n",
       "  </thead>\n",
       "  <tbody>\n",
       "    <tr>\n",
       "      <th>0</th>\n",
       "      <td>Principal província do Canadá parte para o at...</td>\n",
       "      <td>A Comissão de Valores Mobiliários de Ontário (...</td>\n",
       "      <td>77</td>\n",
       "      <td>1</td>\n",
       "    </tr>\n",
       "    <tr>\n",
       "      <th>1</th>\n",
       "      <td>Sheik das Criptomoedas: Justiça decreta falên...</td>\n",
       "      <td>A Justiça Estadual do Paraná decretou a falênc...</td>\n",
       "      <td>35</td>\n",
       "      <td>1</td>\n",
       "    </tr>\n",
       "    <tr>\n",
       "      <th>2</th>\n",
       "      <td>Protocolo assume a liderança do setor DeFi e ...</td>\n",
       "      <td>O token LDO, da plataforma Lido Finance, sobe ...</td>\n",
       "      <td>16</td>\n",
       "      <td>0</td>\n",
       "    </tr>\n",
       "    <tr>\n",
       "      <th>3</th>\n",
       "      <td>99Pay libera negociação de mais quatro cripto...</td>\n",
       "      <td>A 99Pay, carteira digital da 99,  anunciou na ...</td>\n",
       "      <td>66</td>\n",
       "      <td>0</td>\n",
       "    </tr>\n",
       "    <tr>\n",
       "      <th>4</th>\n",
       "      <td>Casal que torrou US$ 10 milhões transferidos ...</td>\n",
       "      <td>Um casal da Austrália que ganhou por engano US...</td>\n",
       "      <td>40</td>\n",
       "      <td>2</td>\n",
       "    </tr>\n",
       "  </tbody>\n",
       "</table>\n",
       "</div>"
      ],
      "text/plain": [
       "                                              Titulo  \\\n",
       "0   Principal província do Canadá parte para o at...   \n",
       "1   Sheik das Criptomoedas: Justiça decreta falên...   \n",
       "2   Protocolo assume a liderança do setor DeFi e ...   \n",
       "3   99Pay libera negociação de mais quatro cripto...   \n",
       "4   Casal que torrou US$ 10 milhões transferidos ...   \n",
       "\n",
       "                                           Descrição  Pagina  Target  \n",
       "0  A Comissão de Valores Mobiliários de Ontário (...      77       1  \n",
       "1  A Justiça Estadual do Paraná decretou a falênc...      35       1  \n",
       "2  O token LDO, da plataforma Lido Finance, sobe ...      16       0  \n",
       "3  A 99Pay, carteira digital da 99,  anunciou na ...      66       0  \n",
       "4  Um casal da Austrália que ganhou por engano US...      40       2  "
      ]
     },
     "execution_count": 4,
     "metadata": {},
     "output_type": "execute_result"
    }
   ],
   "source": [
    "train = pd.read_excel(filename, sheet_name = 'Treinamento')\n",
    "train.head(5)"
   ]
  },
  {
   "cell_type": "code",
   "execution_count": 5,
   "metadata": {},
   "outputs": [
    {
     "data": {
      "text/html": [
       "<div>\n",
       "<style scoped>\n",
       "    .dataframe tbody tr th:only-of-type {\n",
       "        vertical-align: middle;\n",
       "    }\n",
       "\n",
       "    .dataframe tbody tr th {\n",
       "        vertical-align: top;\n",
       "    }\n",
       "\n",
       "    .dataframe thead th {\n",
       "        text-align: right;\n",
       "    }\n",
       "</style>\n",
       "<table border=\"1\" class=\"dataframe\">\n",
       "  <thead>\n",
       "    <tr style=\"text-align: right;\">\n",
       "      <th></th>\n",
       "      <th>Titulo</th>\n",
       "      <th>Descrição</th>\n",
       "      <th>Pagina</th>\n",
       "      <th>Target</th>\n",
       "    </tr>\n",
       "  </thead>\n",
       "  <tbody>\n",
       "    <tr>\n",
       "      <th>0</th>\n",
       "      <td>Governo da Argentina proíbe empresa de oferec...</td>\n",
       "      <td>A Comissão Nacional de Valores (CNV), órgão qu...</td>\n",
       "      <td>81</td>\n",
       "      <td>2</td>\n",
       "    </tr>\n",
       "    <tr>\n",
       "      <th>1</th>\n",
       "      <td>Portugal planeja cobrar impostos sobre cripto...</td>\n",
       "      <td>O governo de Portugal lançou nesta segunda-fei...</td>\n",
       "      <td>41</td>\n",
       "      <td>2</td>\n",
       "    </tr>\n",
       "    <tr>\n",
       "      <th>2</th>\n",
       "      <td>Filho de Bolsonaro abandona metaverso e apaga...</td>\n",
       "      <td>Renan, o filho mais novo do presidente Jair Bo...</td>\n",
       "      <td>25</td>\n",
       "      <td>2</td>\n",
       "    </tr>\n",
       "    <tr>\n",
       "      <th>3</th>\n",
       "      <td>Vocalista do Kiss garante que não venderá cri...</td>\n",
       "      <td>Não é uma novidade que o vocalista da banda Ki...</td>\n",
       "      <td>79</td>\n",
       "      <td>1</td>\n",
       "    </tr>\n",
       "    <tr>\n",
       "      <th>4</th>\n",
       "      <td>Erro faz corretora bloquear para sempre cript...</td>\n",
       "      <td>Um único erro no setor de finanças descentrali...</td>\n",
       "      <td>52</td>\n",
       "      <td>2</td>\n",
       "    </tr>\n",
       "  </tbody>\n",
       "</table>\n",
       "</div>"
      ],
      "text/plain": [
       "                                              Titulo  \\\n",
       "0   Governo da Argentina proíbe empresa de oferec...   \n",
       "1   Portugal planeja cobrar impostos sobre cripto...   \n",
       "2   Filho de Bolsonaro abandona metaverso e apaga...   \n",
       "3   Vocalista do Kiss garante que não venderá cri...   \n",
       "4   Erro faz corretora bloquear para sempre cript...   \n",
       "\n",
       "                                           Descrição  Pagina  Target  \n",
       "0  A Comissão Nacional de Valores (CNV), órgão qu...      81       2  \n",
       "1  O governo de Portugal lançou nesta segunda-fei...      41       2  \n",
       "2  Renan, o filho mais novo do presidente Jair Bo...      25       2  \n",
       "3  Não é uma novidade que o vocalista da banda Ki...      79       1  \n",
       "4  Um único erro no setor de finanças descentrali...      52       2  "
      ]
     },
     "execution_count": 5,
     "metadata": {},
     "output_type": "execute_result"
    }
   ],
   "source": [
    "test = pd.read_excel(filename, sheet_name = 'Teste')\n",
    "test.head(5)"
   ]
  },
  {
   "cell_type": "markdown",
   "metadata": {},
   "source": [
    "___\n",
    "## Classificador automático\n"
   ]
  },
  {
   "attachments": {},
   "cell_type": "markdown",
   "metadata": {},
   "source": [
    "Faça aqui uma descrição do seu assunto e o que considerou como relevante ou não relevante na classificação dos tweets (Target).\n",
    "\n",
    "Nós selecionamos 900 notícias, do \"PortalBitcoin\", relacionadas com o assunto \"moeda\". Como, em sua vasta maioria, essas notícias estão relacionadas com criptomoedas, consideramos relevante classificá-las em: favoráveis, desfavoráveis ou neutras ao mercado de criptomoedas."
   ]
  },
  {
   "cell_type": "markdown",
   "metadata": {},
   "source": [
    "___\n",
    "### Montando um Classificador Naive-Bayes\n",
    "\n",
    "Considerando apenas as mensagens da planilha Treinamento, ensine  seu classificador."
   ]
  },
  {
   "attachments": {},
   "cell_type": "markdown",
   "metadata": {},
   "source": [
    "Limpeza de mensagens, removendo caracteres e substituindo-os por espaço:"
   ]
  },
  {
   "cell_type": "code",
   "execution_count": 6,
   "metadata": {},
   "outputs": [],
   "source": [
    "import re\n",
    "\n",
    "def cleanup(text):\n",
    "    \n",
    "    punctuation = '[!-.:?;]'\n",
    "    pattern = re.compile(punctuation)\n",
    "    text_subbed = re.sub(pattern, '', text)\n",
    "    return text_subbed"
   ]
  },
  {
   "attachments": {},
   "cell_type": "markdown",
   "metadata": {},
   "source": [
    "A seguir, será feita a filtragem e limpeza de cada linha, essa utilizando a função acima: "
   ]
  },
  {
   "cell_type": "code",
   "execution_count": 37,
   "metadata": {},
   "outputs": [],
   "source": [
    "good_market = []\n",
    "bad_market = []\n",
    "neutral_market  = []\n",
    "\n",
    "for i in range(0,len(train)):\n",
    "    t = cleanup(train.Titulo[i]).lower().split()\n",
    "\n",
    "    if train.loc[i,'Target'] == 0:\n",
    "        k = 0\n",
    "        while k < len(t):\n",
    "            good_market.append(t[k])\n",
    "            k = k + 1\n",
    "        \n",
    "    elif train.loc[i,'Target'] == 1:\n",
    "        l = 0\n",
    "        while l < len(t):\n",
    "            bad_market.append(t[l])\n",
    "            l = l + 1\n",
    "        \n",
    "    else:\n",
    "        m = 0\n",
    "        while m < len(t):\n",
    "            neutral_market.append(t[m])\n",
    "            m = m + 1\n",
    "\n",
    "\n",
    "\n"
   ]
  },
  {
   "attachments": {},
   "cell_type": "markdown",
   "metadata": {},
   "source": [
    "Também realizaremos a limpeza de: aspas, | , ( , ) . Uma vez que, acreditamos que não afetará na qualidade das classificações.\n",
    "Em seguida, a limpeza e classificação será refeita, porém, adicionando os novos caracteres."
   ]
  },
  {
   "cell_type": "code",
   "execution_count": 45,
   "metadata": {},
   "outputs": [],
   "source": [
    "def cleanup2(text):\n",
    "    \n",
    "    punctuation = '[()”“|!-.:?;]'\n",
    "    pattern = re.compile(punctuation)\n",
    "    text_subbed2 = re.sub(pattern, '', text)\n",
    "    return text_subbed2"
   ]
  },
  {
   "cell_type": "code",
   "execution_count": 46,
   "metadata": {},
   "outputs": [],
   "source": [
    "good_market_f = []\n",
    "bad_market_f = []\n",
    "neutral_market_f  = []\n",
    "\n",
    "for i in range(0,len(train)):\n",
    "    t = cleanup2(train.Titulo[i]).lower().split()\n",
    "\n",
    "    if train.loc[i,'Target'] == 0:\n",
    "        k = 0\n",
    "        while k < len(t):\n",
    "            good_market_f.append(t[k])\n",
    "            k = k + 1\n",
    "        \n",
    "    elif train.loc[i,'Target'] == 1:\n",
    "        l = 0\n",
    "        while l < len(t):\n",
    "            bad_market_f.append(t[l])\n",
    "            l = l + 1\n",
    "        \n",
    "    else:\n",
    "        m = 0\n",
    "        while m < len(t):\n",
    "            neutral_market_f.append(t[m])\n",
    "            m = m + 1"
   ]
  },
  {
   "attachments": {},
   "cell_type": "markdown",
   "metadata": {},
   "source": [
    "Agora dividiremos as noticias em positivas, ruins, neutras e total"
   ]
  },
  {
   "cell_type": "code",
   "execution_count": 47,
   "metadata": {},
   "outputs": [
    {
     "data": {
      "text/plain": [
       "de              477\n",
       "criptomoedas    408\n",
       "e               150\n",
       "do              126\n",
       "da              112\n",
       "dtype: int64"
      ]
     },
     "execution_count": 47,
     "metadata": {},
     "output_type": "execute_result"
    }
   ],
   "source": [
    "#Total\n",
    "total = good_market_f + bad_market_f + neutral_market_f\n",
    "\n",
    "#notícias e total como pd.Series\n",
    "series_good = pd.Series(good_market_f)\n",
    "series_bad = pd.Series(bad_market_f)\n",
    "series_neutral = pd.Series(neutral_market_f)\n",
    "series_total = pd.Series(total)\n",
    "\n",
    "#Frequências absolutas\n",
    "tab_good_abs = series_good.value_counts()\n",
    "tab_bad_abs = series_bad.value_counts()\n",
    "tab_neutral_abs = series_neutral.value_counts()\n",
    "tab_total_abs = series_total.value_counts()\n",
    "\n",
    "#Frequências relativa\n",
    "tab_rel_good_abs = series_good.value_counts(True)\n",
    "tab_rel_bad_abs = series_bad.value_counts(True)\n",
    "tab_rel_neutral_abs = series_neutral.value_counts(True)\n",
    "tab_rel_total_abs = series_total.value_counts(True)\n",
    "\n",
    "\n",
    "\n",
    "tab_total_abs.head()"
   ]
  },
  {
   "cell_type": "markdown",
   "metadata": {},
   "source": [
    "___\n",
    "### Verificando a performance do Classificador\n",
    "\n",
    "Agora você deve testar o seu classificador com a base de Testes."
   ]
  },
  {
   "cell_type": "code",
   "execution_count": 48,
   "metadata": {},
   "outputs": [],
   "source": [
    "test_list = []\n",
    "\n",
    "\n",
    "for i in range(0,len(test)):\n",
    "    t = cleanup2(test.Titulo[i]).lower().split()\n",
    "\n",
    "    test_list.append(t)\n"
   ]
  },
  {
   "cell_type": "code",
   "execution_count": 49,
   "metadata": {},
   "outputs": [],
   "source": [
    "#Coluna de classificação pelo algoritmo\n",
    "\n",
    "test['Target2'] = '#'"
   ]
  },
  {
   "cell_type": "code",
   "execution_count": 50,
   "metadata": {},
   "outputs": [],
   "source": [
    "#P_good = len(good_market_f)/len(total) #P(good)\n",
    "#P_bad = len(bad_market_f)/len(total) #P(bad)\n",
    "#P_neutral = len(neutral_market_f)/len(total) #P(neutral)\n",
    "\n",
    "#prod_frase_good = 1\n",
    "#prod_frase_bad = 1\n",
    "#prod_frase_neutral = 1\n",
    "\n",
    "#for palavra in test_list:\n",
    "\n",
    "    \n",
    "    #prod_frase_good = prod_frase_good * tab_rel_good_abs [palavra]\n",
    "    #prod_frase_bad = prod_frase_bad * tab_rel_bad_abs [palavra]\n",
    "    #prod_frase_neutral = prod_frase_neutral * tab_rel_neutral_abs [palavra]\n",
    "\n",
    "#probFraseDadoG = prod_frase_good\n",
    "#probFraseDadoB = prod_frase_bad\n",
    "#probFraseDadoN = prod_frase_neutral\n",
    "\n"
   ]
  },
  {
   "attachments": {},
   "cell_type": "markdown",
   "metadata": {},
   "source": [
    "Como visto no código acima, não foi possível realizar o cáclculo das probabilidades, uma vez que, podem aparecer palavras no teste que não estavam no treinamento. Sendo assim, faremos o seguinte:"
   ]
  },
  {
   "cell_type": "code",
   "execution_count": 52,
   "metadata": {},
   "outputs": [
    {
     "data": {
      "text/html": [
       "<div>\n",
       "<style scoped>\n",
       "    .dataframe tbody tr th:only-of-type {\n",
       "        vertical-align: middle;\n",
       "    }\n",
       "\n",
       "    .dataframe tbody tr th {\n",
       "        vertical-align: top;\n",
       "    }\n",
       "\n",
       "    .dataframe thead th {\n",
       "        text-align: right;\n",
       "    }\n",
       "</style>\n",
       "<table border=\"1\" class=\"dataframe\">\n",
       "  <thead>\n",
       "    <tr style=\"text-align: right;\">\n",
       "      <th></th>\n",
       "      <th>Titulo</th>\n",
       "      <th>Descrição</th>\n",
       "      <th>Pagina</th>\n",
       "      <th>Target</th>\n",
       "      <th>Target2</th>\n",
       "    </tr>\n",
       "  </thead>\n",
       "  <tbody>\n",
       "    <tr>\n",
       "      <th>0</th>\n",
       "      <td>Governo da Argentina proíbe empresa de oferec...</td>\n",
       "      <td>A Comissão Nacional de Valores (CNV), órgão qu...</td>\n",
       "      <td>81</td>\n",
       "      <td>2</td>\n",
       "      <td>1</td>\n",
       "    </tr>\n",
       "    <tr>\n",
       "      <th>1</th>\n",
       "      <td>Portugal planeja cobrar impostos sobre cripto...</td>\n",
       "      <td>O governo de Portugal lançou nesta segunda-fei...</td>\n",
       "      <td>41</td>\n",
       "      <td>2</td>\n",
       "      <td>2</td>\n",
       "    </tr>\n",
       "    <tr>\n",
       "      <th>2</th>\n",
       "      <td>Filho de Bolsonaro abandona metaverso e apaga...</td>\n",
       "      <td>Renan, o filho mais novo do presidente Jair Bo...</td>\n",
       "      <td>25</td>\n",
       "      <td>2</td>\n",
       "      <td>2</td>\n",
       "    </tr>\n",
       "    <tr>\n",
       "      <th>3</th>\n",
       "      <td>Vocalista do Kiss garante que não venderá cri...</td>\n",
       "      <td>Não é uma novidade que o vocalista da banda Ki...</td>\n",
       "      <td>79</td>\n",
       "      <td>1</td>\n",
       "      <td>2</td>\n",
       "    </tr>\n",
       "    <tr>\n",
       "      <th>4</th>\n",
       "      <td>Erro faz corretora bloquear para sempre cript...</td>\n",
       "      <td>Um único erro no setor de finanças descentrali...</td>\n",
       "      <td>52</td>\n",
       "      <td>2</td>\n",
       "      <td>1</td>\n",
       "    </tr>\n",
       "    <tr>\n",
       "      <th>...</th>\n",
       "      <td>...</td>\n",
       "      <td>...</td>\n",
       "      <td>...</td>\n",
       "      <td>...</td>\n",
       "      <td>...</td>\n",
       "    </tr>\n",
       "    <tr>\n",
       "      <th>319</th>\n",
       "      <td>“Sheik das criptomoedas” mandou R$ 4 milhões ...</td>\n",
       "      <td>Francisley Valdevino da Silva, apelidado de “S...</td>\n",
       "      <td>41</td>\n",
       "      <td>1</td>\n",
       "      <td>1</td>\n",
       "    </tr>\n",
       "    <tr>\n",
       "      <th>320</th>\n",
       "      <td>Reino Unido suspende plano de monitorar carte...</td>\n",
       "      <td>O Reino Unido, em um contraste gritante a uma ...</td>\n",
       "      <td>78</td>\n",
       "      <td>1</td>\n",
       "      <td>1</td>\n",
       "    </tr>\n",
       "    <tr>\n",
       "      <th>321</th>\n",
       "      <td>Regulador dos EUA diz que criptomoedas são “a...</td>\n",
       "      <td>As criptomoedas podem ser uma ameaça à seguran...</td>\n",
       "      <td>24</td>\n",
       "      <td>2</td>\n",
       "      <td>2</td>\n",
       "    </tr>\n",
       "    <tr>\n",
       "      <th>322</th>\n",
       "      <td>Os efeitos da ‘operação sufocamento’ dos EUA ...</td>\n",
       "      <td>A última semana foi de correção para as cripto...</td>\n",
       "      <td>6</td>\n",
       "      <td>2</td>\n",
       "      <td>2</td>\n",
       "    </tr>\n",
       "    <tr>\n",
       "      <th>323</th>\n",
       "      <td>Criptomoeda “bomba-relógio” entra em colapso ...</td>\n",
       "      <td>As críticas ao ecossistema da criptomoeda HEX,...</td>\n",
       "      <td>18</td>\n",
       "      <td>1</td>\n",
       "      <td>1</td>\n",
       "    </tr>\n",
       "  </tbody>\n",
       "</table>\n",
       "<p>324 rows × 5 columns</p>\n",
       "</div>"
      ],
      "text/plain": [
       "                                                Titulo  \\\n",
       "0     Governo da Argentina proíbe empresa de oferec...   \n",
       "1     Portugal planeja cobrar impostos sobre cripto...   \n",
       "2     Filho de Bolsonaro abandona metaverso e apaga...   \n",
       "3     Vocalista do Kiss garante que não venderá cri...   \n",
       "4     Erro faz corretora bloquear para sempre cript...   \n",
       "..                                                 ...   \n",
       "319   “Sheik das criptomoedas” mandou R$ 4 milhões ...   \n",
       "320   Reino Unido suspende plano de monitorar carte...   \n",
       "321   Regulador dos EUA diz que criptomoedas são “a...   \n",
       "322   Os efeitos da ‘operação sufocamento’ dos EUA ...   \n",
       "323   Criptomoeda “bomba-relógio” entra em colapso ...   \n",
       "\n",
       "                                             Descrição  Pagina  Target Target2  \n",
       "0    A Comissão Nacional de Valores (CNV), órgão qu...      81       2       1  \n",
       "1    O governo de Portugal lançou nesta segunda-fei...      41       2       2  \n",
       "2    Renan, o filho mais novo do presidente Jair Bo...      25       2       2  \n",
       "3    Não é uma novidade que o vocalista da banda Ki...      79       1       2  \n",
       "4    Um único erro no setor de finanças descentrali...      52       2       1  \n",
       "..                                                 ...     ...     ...     ...  \n",
       "319  Francisley Valdevino da Silva, apelidado de “S...      41       1       1  \n",
       "320  O Reino Unido, em um contraste gritante a uma ...      78       1       1  \n",
       "321  As criptomoedas podem ser uma ameaça à seguran...      24       2       2  \n",
       "322  A última semana foi de correção para as cripto...       6       2       2  \n",
       "323  As críticas ao ecossistema da criptomoeda HEX,...      18       1       1  \n",
       "\n",
       "[324 rows x 5 columns]"
      ]
     },
     "execution_count": 52,
     "metadata": {},
     "output_type": "execute_result"
    }
   ],
   "source": [
    "P_good = len(good_market_f)/len(total) #P(good)\n",
    "P_bad = len(bad_market_f)/len(total) #P(bad)\n",
    "P_neutral = len(neutral_market_f)/len(total) #P(neutral)\n",
    "\n",
    "probFraseDadoB = []\n",
    "probFraseDadoG = []\n",
    "probFraseDadoN = []\n",
    "for i in range(len(test_list)):\n",
    "    prod_frase_good = 1\n",
    "    prod_frase_bad = 1\n",
    "    prod_frase_neutral = 1\n",
    "\n",
    "\n",
    "    for palavra in test_list[i]:\n",
    "        if palavra not in good_market_f:\n",
    "            tab_good_abs[palavra] = 0\n",
    "        if palavra not in bad_market_f:\n",
    "            tab_bad_abs[palavra] = 0\n",
    "        if palavra not in neutral_market_f:\n",
    "            tab_neutral_abs[palavra] = 0\n",
    "\n",
    "\n",
    "\n",
    "        \n",
    "        prod_frase_good = prod_frase_good * (tab_good_abs[palavra] + 1) / (len(good_market_f) +tab_total_abs.shape[0])\n",
    "        prod_frase_bad = prod_frase_bad * (tab_bad_abs [palavra] + 1) / (len(bad_market_f) +tab_total_abs.shape[0])\n",
    "        prod_frase_neutral = prod_frase_neutral * (tab_neutral_abs [palavra] + 1) / (len(neutral_market_f) +tab_total_abs.shape[0])\n",
    "\n",
    "    probFraseDadoG.append(P_good * prod_frase_good)\n",
    "    probFraseDadoB.append(P_bad* prod_frase_bad)\n",
    "    probFraseDadoN.append(P_neutral * prod_frase_neutral)\n",
    "\n",
    "    if probFraseDadoG[i] > probFraseDadoB[i] and probFraseDadoG[i]> probFraseDadoN[i]:\n",
    "        test.loc[i,['Target2']] = 0\n",
    "    elif probFraseDadoB[i] > probFraseDadoG[i] and probFraseDadoB[i]> probFraseDadoN[i]:\n",
    "        test.loc[i,['Target2']] = 1\n",
    "    else:\n",
    "        test.loc[i,['Target2']] = 2\n",
    "        \n",
    "test\n"
   ]
  },
  {
   "cell_type": "code",
   "execution_count": 53,
   "metadata": {},
   "outputs": [
    {
     "data": {
      "text/html": [
       "<div>\n",
       "<style scoped>\n",
       "    .dataframe tbody tr th:only-of-type {\n",
       "        vertical-align: middle;\n",
       "    }\n",
       "\n",
       "    .dataframe tbody tr th {\n",
       "        vertical-align: top;\n",
       "    }\n",
       "\n",
       "    .dataframe thead th {\n",
       "        text-align: right;\n",
       "    }\n",
       "</style>\n",
       "<table border=\"1\" class=\"dataframe\">\n",
       "  <thead>\n",
       "    <tr style=\"text-align: right;\">\n",
       "      <th>Target2</th>\n",
       "      <th>0</th>\n",
       "      <th>1</th>\n",
       "      <th>2</th>\n",
       "    </tr>\n",
       "    <tr>\n",
       "      <th>Target</th>\n",
       "      <th></th>\n",
       "      <th></th>\n",
       "      <th></th>\n",
       "    </tr>\n",
       "  </thead>\n",
       "  <tbody>\n",
       "    <tr>\n",
       "      <th>0</th>\n",
       "      <td>12.65</td>\n",
       "      <td>6.79</td>\n",
       "      <td>9.57</td>\n",
       "    </tr>\n",
       "    <tr>\n",
       "      <th>1</th>\n",
       "      <td>4.94</td>\n",
       "      <td>19.44</td>\n",
       "      <td>13.27</td>\n",
       "    </tr>\n",
       "    <tr>\n",
       "      <th>2</th>\n",
       "      <td>5.56</td>\n",
       "      <td>5.86</td>\n",
       "      <td>21.91</td>\n",
       "    </tr>\n",
       "  </tbody>\n",
       "</table>\n",
       "</div>"
      ],
      "text/plain": [
       "Target2      0      1      2\n",
       "Target                      \n",
       "0        12.65   6.79   9.57\n",
       "1         4.94  19.44  13.27\n",
       "2         5.56   5.86  21.91"
      ]
     },
     "execution_count": 53,
     "metadata": {},
     "output_type": "execute_result"
    }
   ],
   "source": [
    "Acuracia = pd.crosstab(test['Target'],test['Target2'], normalize=True, ).round(4)*100\n",
    "Acuracia"
   ]
  },
  {
   "attachments": {},
   "cell_type": "markdown",
   "metadata": {},
   "source": [
    "Porcentagem de verdadeiros positivos para notícias boas para\n",
    "o mercado de criptomoedas: 12,65%\n",
    "Porcentagem de falsos positivos (classificadas como ruim) para notícias boas para o mercado de criptomoedas: 6,79%\n",
    "Porcentagem de falsos positivos (classificadas como neutra) para notícias boas para o mercado de criptomoedas: 9,57%\n",
    "\n",
    "Porcentagem de verdadeiros positivos para notícias ruins para\n",
    "o mercado de criptomoedas: 19,44%\n",
    "Porcentagem de falsos positivos (classificadas como boa) para notícias ruins para o mercado de criptomoedas: 4,94%\n",
    "Porcentagem de falsos positivos (classificadas como neutra) para notícias ruins para o mercado de criptomoedas: 13,27%\n",
    "\n",
    "Porcentagem de verdadeiros positivos para notícias neutras para o mercado de criptomoedas: 21,91%\n",
    "Porcentagem de falsos positivos (classificadas como boa) para notícias neutras para o mercado de criptomoedas: 5,56%\n",
    "Porcentagem de falsos positivos (classificadas como ruins) para notícias neutras para o mercado de criptomoedas: 5,86%\n",
    "\n",
    "Acurácia: 54%"
   ]
  },
  {
   "cell_type": "markdown",
   "metadata": {},
   "source": [
    "___\n",
    "### Concluindo"
   ]
  },
  {
   "attachments": {},
   "cell_type": "markdown",
   "metadata": {},
   "source": [
    "Comparativo qualitativo:\n",
    "Em todos os níveis de classificação, as notícias da planilha de teste foram classificadas, na sua maioria, corretamente, em relação a classificação manual, realizada na planilha de treinamento. Sendo assim, a acurácia obtida foi de 54%.\n",
    "As notícias, antes classificadas como boa ou ruim na planilha de treinamento, que foram classificadas erroneamente na planilha de teste, majoritariamente, foram classificas como neutras.\n",
    "Já, nas notícias anteriormente classificadas como neutras, as que foram classificadas de maneira incorreta, estão distribuídas, quase igualmente, entre boas e ruins.\n",
    "\n",
    "Mensagens com dupla negação e sarcasmo:\n",
    "Mensagens com essas características não possuem presença expressiva nas notícias.\n",
    "\n",
    "Plano de expansão:\n",
    "Os investidores devem continuar a investir no nosso projeto, uma vez que, nosso algoritmo possui uma acurácia significativa. Além disso, acreditamos que ainda existem melhorias que podem ser implementadas para aumentar essa variável. Desse modo, nosso programa pode ser útil para automatizar atividades de classificação.\n",
    "\n",
    " Não é possível alimentar a base de Treinamentos automaticamnte usando o prórpio classificador pois, nesse caso, o algoritmmo poderia classificar as frases de maneira errônea. Isso acontece pois mesmo com a boa acurácia do código, ela não é perfeita, e, assim, o erro seria levado adiante. \n",
    "\n",
    " Esse classificador poderia ser usado, de maneira semehante, por uma empresa que tem o objetivo de descobrir o percentual de notícias favoráveis, desfavoráveis e neutras sobre sua marca, a partir de um banco de dados sobre comentários da empresa em uma rede socal específica. Além disso, o código poderia ser usado por um fundo de investimento que quer análisar as indicações de compra ou venda de uma determinada ação. Isso seria feito ao realizar a análise um banco de dados com indicações de diversas casas de research.\n",
    "\n",
    "Para melhorar o código ainda mais, poderia ser relizada uma limpeza mais aprofundada na base de dados. Essa limpeza seria com as \"stop-words\", ou seja, palavras que, caso retiradas da base, não interferem na classificação das mesmas, por exemplo, artigos e preposições."
   ]
  },
  {
   "cell_type": "markdown",
   "metadata": {},
   "source": [
    "___\n",
    "### Qualidade do Classificador a partir de novas separações dos tweets entre Treinamento e Teste\n",
    "\n",
    "Caso for fazer esse item do Projeto"
   ]
  },
  {
   "cell_type": "code",
   "execution_count": null,
   "metadata": {},
   "outputs": [],
   "source": []
  },
  {
   "cell_type": "code",
   "execution_count": null,
   "metadata": {},
   "outputs": [],
   "source": []
  },
  {
   "cell_type": "code",
   "execution_count": null,
   "metadata": {},
   "outputs": [],
   "source": []
  },
  {
   "cell_type": "markdown",
   "metadata": {},
   "source": [
    "___\n",
    "## Aperfeiçoamento:\n",
    "\n",
    "Trabalhos que conseguirem pelo menos conceito B vão evoluir em conceito dependendo da quantidade de itens avançados:\n",
    "\n",
    "* IMPLEMENTOU outras limpezas e transformações que não afetem a qualidade da informação contida nos tweets. Ex: stemming, lemmatization, stopwords\n",
    "* CONSIDEROU mais de duas categorias na variável Target e INCREMENTOU a quantidade de notícias, mantendo pelo menos 250 notícias por categoria (OBRIGATÓRIO PARA TRIOS, sem contar como item avançado)\n",
    "* Para Target com duas categorias: CRIOU pelo menos quatro categorias intermediárias de relevância baseadas na probabilidade: ex.: muito relevante, relevante, neutro, irrelevante, muito irrelevante\n",
    "* EXPLICOU porquê não pode usar o próprio classificador para gerar mais amostras de treinamento\n",
    "* PROPÔS diferentes cenários para Naïve Bayes fora do contexto do projeto (pelo menos dois cenários, exceto aqueles já apresentados em sala pelos professores: por exemplo, filtro de spam)\n",
    "* SUGERIU e EXPLICOU melhorias reais com indicações concretas de como implementar (indicar como fazer e indicar material de pesquisa)\n",
    "* FEZ o item Qualidade do Classificador a partir de novas separações das Notícias entre Treinamento e Teste descrito no enunciado do projeto (OBRIGATÓRIO para conceitos A ou A+)"
   ]
  },
  {
   "cell_type": "markdown",
   "metadata": {},
   "source": [
    "___\n",
    "## Referências"
   ]
  },
  {
   "cell_type": "markdown",
   "metadata": {},
   "source": [
    "[Naive Bayes and Text Classification](https://arxiv.org/pdf/1410.5329.pdf)  **Mais completo**\n",
    "\n",
    "[A practical explanation of a Naive Bayes Classifier](https://monkeylearn.com/blog/practical-explanation-naive-bayes-classifier/) **Mais simples**"
   ]
  },
  {
   "cell_type": "code",
   "execution_count": null,
   "metadata": {},
   "outputs": [],
   "source": []
  }
 ],
 "metadata": {
  "kernelspec": {
   "display_name": "Python 3 (ipykernel)",
   "language": "python",
   "name": "python3"
  },
  "language_info": {
   "codemirror_mode": {
    "name": "ipython",
    "version": 3
   },
   "file_extension": ".py",
   "mimetype": "text/x-python",
   "name": "python",
   "nbconvert_exporter": "python",
   "pygments_lexer": "ipython3",
   "version": "3.8.8"
  }
 },
 "nbformat": 4,
 "nbformat_minor": 4
}
